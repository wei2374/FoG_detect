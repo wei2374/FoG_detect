{
 "cells": [
  {
   "cell_type": "code",
   "execution_count": 255,
   "metadata": {},
   "outputs": [
    {
     "name": "stdout",
     "output_type": "stream",
     "text": [
      "(4742,)\n",
      "(4742,)\n",
      "(4742,)\n",
      "(4742,)\n",
      "(4742,)\n",
      "(4742,)\n"
     ]
    }
   ],
   "source": [
    "import pandas as pd\n",
    "import keras\n",
    "import numpy as np\n",
    "from matplotlib import pyplot as plt\n",
    "from sklearn.preprocessing import StandardScaler\n",
    "import scipy.io as spio\n",
    "import sklearn.decomposition as dec\n",
    "from sklearn.discriminant_analysis import LinearDiscriminantAnalysis\n",
    "from sklearn.model_selection import train_test_split\n",
    "import sklearn.metrics.pairwise as pw\n",
    "\n",
    "#get fft data from file\n",
    "mat = spio.loadmat('label.mat',squeeze_me=True)\n",
    "labels = mat['label'];\n",
    "\n",
    "mat = spio.loadmat('freezeIndex.mat',squeeze_me=True)\n",
    "freezeindex = mat['freezeIndex'];\n",
    "\n",
    "mat = spio.loadmat('dominantF.mat',squeeze_me=True)\n",
    "dominantF = mat['I'];\n",
    "\n",
    "mat = spio.loadmat('neighbour_V.mat',squeeze_me=True)\n",
    "neighbour_V = mat['sum_V'];\n",
    "\n",
    "mat = spio.loadmat('portion_above.mat',squeeze_me=True)\n",
    "portion_above = mat['pa'];\n",
    "\n",
    "mat = spio.loadmat('mean.mat',squeeze_me=True)\n",
    "means = mat['y_mean'];\n",
    "\n",
    "print labels.shape\n",
    "print means.shape\n",
    "print freezeindex.shape\n",
    "print dominantF.shape\n",
    "print neighbour_V.shape\n",
    "print portion_above.shape"
   ]
  },
  {
   "cell_type": "code",
   "execution_count": 256,
   "metadata": {},
   "outputs": [
    {
     "name": "stdout",
     "output_type": "stream",
     "text": [
      "(2741,)\n",
      "(159,)\n"
     ]
    }
   ],
   "source": [
    "#find the labels of FoG and noFoG\n",
    "FoG = np.where(labels == 2)\n",
    "noFoG = np.where(labels == 1)\n",
    "\n",
    "filter_indices = noFoG\n",
    "noFoG_labels = np.array(labels)[noFoG]\n",
    "print noFoG_labels.shape\n",
    "\n",
    "filter_indices = FoG\n",
    "FoG_labels = np.array(labels)[FoG]\n",
    "print FoG_labels.shape"
   ]
  },
  {
   "cell_type": "code",
   "execution_count": 257,
   "metadata": {},
   "outputs": [
    {
     "name": "stdout",
     "output_type": "stream",
     "text": [
      "(2741, 5)\n",
      "(159, 5)\n"
     ]
    }
   ],
   "source": [
    "#find inputs of noFoG\n",
    "noFoG_mean =  np.array(means)[noFoG]\n",
    "noFoG_freezeindex =  np.array(freezeindex)[noFoG]\n",
    "noFoG_dominantF = np.array(dominantF)[noFoG]\n",
    "noFoG_neighbour_V = np.array(neighbour_V)[noFoG]\n",
    "noFoG_portion_above = np.array(portion_above)[noFoG]\n",
    "\n",
    "noFoG_input = np.stack([noFoG_mean,noFoG_freezeindex,noFoG_dominantF,noFoG_neighbour_V,noFoG_portion_above]).transpose()\n",
    "\n",
    "print noFoG_input.shape\n",
    "\n",
    "#find inputs of FoG\n",
    "FoG_mean =  np.array(means)[FoG]\n",
    "FoG_freezeindex =  np.array(freezeindex)[FoG]\n",
    "FoG_dominantF = np.array(dominantF)[FoG]\n",
    "FoG_neighbour_V = np.array(neighbour_V)[FoG]\n",
    "FoG_portion_above = np.array(portion_above)[FoG]\n",
    "\n",
    "FoG_input = np.stack([FoG_mean,FoG_freezeindex,FoG_dominantF,FoG_neighbour_V,FoG_portion_above]).transpose()\n",
    "\n",
    "print FoG_input.shape"
   ]
  },
  {
   "cell_type": "code",
   "execution_count": 280,
   "metadata": {},
   "outputs": [
    {
     "name": "stdout",
     "output_type": "stream",
     "text": [
      "((2741,), (2741, 5))\n"
     ]
    },
    {
     "data": {
      "text/plain": [
       "[<matplotlib.lines.Line2D at 0x7efec6803910>]"
      ]
     },
     "execution_count": 280,
     "metadata": {},
     "output_type": "execute_result"
    },
    {
     "data": {
      "image/png": "[encoded data removed]",
      "text/plain": [
       "<Figure size 432x288 with 1 Axes>"
      ]
     },
     "metadata": {
      "needs_background": "light"
     },
     "output_type": "display_data"
    }
   ],
   "source": [
    "#normalization\n",
    "noFoG_max = np.amax(noFoG_input,axis=0);\n",
    "noFoG_min = np.amin(noFoG_input,axis=0);\n",
    "noFoG_input = (noFoG_input-noFoG_min)/(noFoG_max-noFoG_min) \n",
    "\n",
    "FoG_max = np.amax(FoG_input,axis=0);\n",
    "FoG_min = np.amin(FoG_input,axis=0);\n",
    "FoG_input = (FoG_input-FoG_min)/(FoG_max-FoG_min)\n",
    "\n",
    "x = np.arange(0,noFoG_labels.shape[0],1);\n",
    "print(x.shape,noFoG_input.shape)\n",
    "plt.plot(x, noFoG_input[:,3])"
   ]
  },
  {
   "cell_type": "code",
   "execution_count": 264,
   "metadata": {},
   "outputs": [
    {
     "name": "stdout",
     "output_type": "stream",
     "text": [
      "(2192, 5)\n",
      "(549, 5)\n",
      "(127, 5)\n",
      "(32, 5)\n",
      "(2319, 5)\n",
      "(581, 5)\n"
     ]
    }
   ],
   "source": [
    "#distribute to groups\n",
    "from sklearn.model_selection import train_test_split\n",
    "\n",
    "#noFoG_input = noFoG_input[:500,:]\n",
    "#noFoG_labels = noFoG_labels[:500]\n",
    "\n",
    "X_train1,X_test1,y_train1,y_test1 = train_test_split(noFoG_input,noFoG_labels,test_size=0.2,random_state=4)\n",
    "X_train2,X_test2,y_train2,y_test2 = train_test_split(FoG_input,FoG_labels,test_size=0.2,random_state=4)\n",
    "\n",
    "print(X_train1.shape)\n",
    "print(X_test1.shape)\n",
    "print(X_train2.shape)\n",
    "print(X_test2.shape)\n",
    "\n",
    "X_train = np.concatenate((X_train1,X_train2))\n",
    "y_train = np.concatenate((y_train1,y_train2))\n",
    "X_test = np.concatenate((X_test1,X_test2))\n",
    "y_test = np.concatenate((y_test1,y_test2))\n",
    "\n",
    "print(X_train.shape)\n",
    "print(X_test.shape)"
   ]
  },
  {
   "cell_type": "code",
   "execution_count": 260,
   "metadata": {},
   "outputs": [],
   "source": [
    "#one hot encoding\n",
    "num_classes = 2\n",
    "y_train = keras.utils.to_categorical(y_train-1, num_classes)\n",
    "y_test = keras.utils.to_categorical(y_test-1, num_classes)"
   ]
  },
  {
   "cell_type": "code",
   "execution_count": 261,
   "metadata": {},
   "outputs": [
    {
     "name": "stdout",
     "output_type": "stream",
     "text": [
      "_________________________________________________________________\n",
      "Layer (type)                 Output Shape              Param #   \n",
      "=================================================================\n",
      "dense_65 (Dense)             (None, 20)                120       \n",
      "_________________________________________________________________\n",
      "dense_66 (Dense)             (None, 2)                 42        \n",
      "=================================================================\n",
      "Total params: 162\n",
      "Trainable params: 162\n",
      "Non-trainable params: 0\n",
      "_________________________________________________________________\n"
     ]
    }
   ],
   "source": [
    "from keras.layers import Dense\n",
    "from keras.models import Sequential\n",
    "input_size = 5\n",
    "num_classes = 2\n",
    "neuron2  =  20\n",
    "model = Sequential()\n",
    "model.add(Dense(neuron2, activation='sigmoid', input_shape=(input_size,)))\n",
    "model.add(Dense(units=num_classes, activation='softmax'))\n",
    "model.summary()"
   ]
  },
  {
   "cell_type": "code",
   "execution_count": 262,
   "metadata": {},
   "outputs": [
    {
     "name": "stdout",
     "output_type": "stream",
     "text": [
      "Train on 2087 samples, validate on 232 samples\n",
      "Epoch 1/10\n",
      "2087/2087 [==============================] - 1s 520us/step - loss: 0.7715 - acc: 0.4006 - val_loss: 0.7367 - val_acc: 0.4526\n",
      "Epoch 2/10\n",
      "2087/2087 [==============================] - 0s 33us/step - loss: 0.3897 - acc: 1.0000 - val_loss: 0.8913 - val_acc: 0.4526\n",
      "Epoch 3/10\n",
      "2087/2087 [==============================] - 0s 47us/step - loss: 0.2408 - acc: 1.0000 - val_loss: 1.0426 - val_acc: 0.4526\n",
      "Epoch 4/10\n",
      "2087/2087 [==============================] - 0s 40us/step - loss: 0.1695 - acc: 1.0000 - val_loss: 1.1722 - val_acc: 0.4526\n",
      "Epoch 5/10\n",
      "2087/2087 [==============================] - 0s 53us/step - loss: 0.1293 - acc: 1.0000 - val_loss: 1.2820 - val_acc: 0.4526\n",
      "Epoch 6/10\n",
      "2087/2087 [==============================] - 0s 44us/step - loss: 0.1038 - acc: 1.0000 - val_loss: 1.3762 - val_acc: 0.4526\n",
      "Epoch 7/10\n",
      "2087/2087 [==============================] - 0s 42us/step - loss: 0.0865 - acc: 1.0000 - val_loss: 1.4582 - val_acc: 0.4526\n",
      "Epoch 8/10\n",
      "2087/2087 [==============================] - 0s 46us/step - loss: 0.0739 - acc: 1.0000 - val_loss: 1.5306 - val_acc: 0.4526\n",
      "Epoch 9/10\n",
      "2087/2087 [==============================] - 0s 25us/step - loss: 0.0645 - acc: 1.0000 - val_loss: 1.5953 - val_acc: 0.4526\n",
      "Epoch 10/10\n",
      "2087/2087 [==============================] - 0s 24us/step - loss: 0.0571 - acc: 1.0000 - val_loss: 1.6537 - val_acc: 0.4526\n",
      "(0.21474119410457382, 0.9449225473321858)\n"
     ]
    }
   ],
   "source": [
    "model.compile(optimizer=\"sgd\", loss='categorical_crossentropy', metrics=['accuracy'])\n",
    "history = model.fit(X_train, y_train, batch_size=128, epochs=10, verbose=True, validation_split=.1)\n",
    "loss, accuracy  = model.evaluate(X_test, y_test, verbose=False)\n",
    "print(loss,accuracy)"
   ]
  },
  {
   "cell_type": "code",
   "execution_count": 263,
   "metadata": {},
   "outputs": [
    {
     "name": "stdout",
     "output_type": "stream",
     "text": [
      "[0 0 0 0 0 0 0 0 0 0 0 0 0 0 0 0 0 0 0 0 0 0 0 0 0 0 0 0 0 0 0 0 0 0 0 0 0\n",
      " 0 0 0 0 0 0 0 0 0 0 0 0 0 0 0 0 0 0 0 0 0 0 0 0 0 0 0 0 0 0 0 0 0 0 0 0 0\n",
      " 0 0 0 0 0 0 0 0 0 0 0 0 0 0 0 0 0 0 0 0 0 0 0 0 0 0 0 0 0 0 0 0 0 0 0 0 0\n",
      " 0 0 0 0 0 0 0 0 0 0 0 0 0 0 0 0 0 0 0 0 0 0 0 0 0 0 0 0 0 0 0 0 0 0 0 0 0\n",
      " 0 0 0 0 0 0 0 0 0 0 0 0 0 0 0 0 0 0 0 0 0 0 0 0 0 0 0 0 0 0 0 0 0 0 0 0 0\n",
      " 0 0 0 0 0 0 0 0 0 0 0 0 0 0 0 0 0 0 0 0 0 0 0 0 0 0 0 0 0 0 0 0 0 0 0 0 0\n",
      " 0 0 0 0 0 0 0 0 0 0 0 0 0 0 0 0 0 0 0 0 0 0 0 0 0 0 0 0 0 0 0 0 0 0 0 0 0\n",
      " 0 0 0 0 0 0 0 0 0 0 0 0 0 0 0 0 0 0 0 0 0 0 0 0 0 0 0 0 0 0 0 0 0 0 0 0 0\n",
      " 0 0 0 0 0 0 0 0 0 0 0 0 0 0 0 0 0 0 0 0 0 0 0 0 0 0 0 0 0 0 0 0 0 0 0 0 0\n",
      " 0 0 0 0 0 0 0 0 0 0 0 0 0 0 0 0 0 0 0 0 0 0 0 0 0 0 0 0 0 0 0 0 0 0 0 0 0\n",
      " 0 0 0 0 0 0 0 0 0 0 0 0 0 0 0 0 0 0 0 0 0 0 0 0 0 0 0 0 0 0 0 0 0 0 0 0 0\n",
      " 0 0 0 0 0 0 0 0 0 0 0 0 0 0 0 0 0 0 0 0 0 0 0 0 0 0 0 0 0 0 0 0 0 0 0 0 0\n",
      " 0 0 0 0 0 0 0 0 0 0 0 0 0 0 0 0 0 0 0 0 0 0 0 0 0 0 0 0 0 0 0 0 0 0 0 0 0\n",
      " 0 0 0 0 0 0 0 0 0 0 0 0 0 0 0 0 0 0 0 0 0 0 0 0 0 0 0 0 0 0 0 0 0 0 0 0 0\n",
      " 0 0 0 0 0 0 0 0 0 0 0 0 0 0 0 0 0 0 0 0 0 0 0 0 0 0 0 0 0 0 0 0 0 0 0 0 0\n",
      " 0 0 0 0 0 0 0 0 0 0 0 0 0 0 0 0 0 0 0 0 0 0 0 0 0 0]\n",
      "(581,)\n"
     ]
    }
   ],
   "source": [
    "y_pred = model.predict_classes(X_test);\n",
    "y_test = np.concatenate((y_test1,y_test2));\n",
    "print y_pred\n",
    "print y_test.shape"
   ]
  },
  {
   "cell_type": "code",
   "execution_count": 254,
   "metadata": {},
   "outputs": [
    {
     "name": "stdout",
     "output_type": "stream",
     "text": [
      "Accuracy: 0.944923\n",
      "Precision: 0.472461\n",
      "Recall: 0.500000\n",
      "F1 score: 0.485841\n",
      "[[549   0]\n",
      " [ 32   0]]\n"
     ]
    }
   ],
   "source": [
    "testy = y_test-1\n",
    "yhat_classes = y_pred\n",
    "from sklearn.metrics import accuracy_score\n",
    "from sklearn.metrics import precision_score\n",
    "from sklearn.metrics import recall_score\n",
    "from sklearn.metrics import f1_score\n",
    "from sklearn.metrics import confusion_matrix\n",
    "# accuracy: (tp + tn) / (p + n)\n",
    "accuracy = accuracy_score(testy, yhat_classes)\n",
    "print('Accuracy: %f' % accuracy)\n",
    "\n",
    "#precision tp / (tp + fp)\n",
    "precision = precision_score(testy, yhat_classes,average='macro')\n",
    "print('Precision: %f' % precision)\n",
    "\n",
    "#recall: tp / (tp + fn)\n",
    "recall = recall_score(testy, yhat_classes,average='macro')\n",
    "print('Recall: %f' % recall)\n",
    "\n",
    "# f1: 2 tp / (2 tp + fp + fn)\n",
    "f1 = f1_score(testy, yhat_classes,average='macro')\n",
    "print('F1 score: %f' % f1)\n",
    "\n",
    "# confusion matrix\n",
    "matrix = confusion_matrix(testy, yhat_classes)\n",
    "print(matrix)"
   ]
  },
  {
   "cell_type": "code",
   "execution_count": null,
   "metadata": {},
   "outputs": [],
   "source": []
  },
  {
   "cell_type": "code",
   "execution_count": null,
   "metadata": {},
   "outputs": [],
   "source": []
  }
 ],
 "metadata": {
  "kernelspec": {
   "display_name": "Python 2",
   "language": "python",
   "name": "python2"
  },
  "language_info": {
   "codemirror_mode": {
    "name": "ipython",
    "version": 2
   },
   "file_extension": ".py",
   "mimetype": "text/x-python",
   "name": "python",
   "nbconvert_exporter": "python",
   "pygments_lexer": "ipython2",
   "version": "2.7.16"
  }
 },
 "nbformat": 4,
 "nbformat_minor": 2
}
